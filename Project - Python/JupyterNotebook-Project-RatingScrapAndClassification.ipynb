{
 "cells": [
  {
   "cell_type": "code",
   "execution_count": null,
   "metadata": {},
   "outputs": [],
   "source": [
    "#import module to get ratings\n",
    "import requests\n",
    "from bs4 import BeautifulSoup\n",
    "import pandas as pd\n"
   ]
  },
  {
   "cell_type": "code",
   "execution_count": null,
   "metadata": {},
   "outputs": [],
   "source": [
    "#set two category \n",
    "#0: Category: Hotels and travel,1: Category: Restaurants\n",
    "categories = ['hotels_travel_list.html','restaurants_list.html']"
   ]
  },
  {
   "cell_type": "code",
   "execution_count": null,
   "metadata": {},
   "outputs": [],
   "source": [
    "#set base url and negate,positive data\n",
    "url ='http://mlg.ucd.ie/modules/yalp/'\n",
    "\n",
    "#positive rating\n",
    "pos = ['4-star','5-star']\n",
    "#negative rating\n",
    "neg = ['1-star','2-star','3-star']\n"
   ]
  },
  {
   "cell_type": "code",
   "execution_count": null,
   "metadata": {},
   "outputs": [],
   "source": [
    "for cat in categories:\n",
    "     print('Getting data for category ',cat.replace('.html',''),'. please wait...')\n",
    "     page = requests.get(url+cat)\n",
    "\n",
    "     #print(page.text)\n",
    "     soup = BeautifulSoup(page.text,\"html.parser\" ) # lxml is just the parser for reading the html\n",
    "     all_a = soup.find_all('a')\n",
    "     l = len(all_a)\n",
    "\n",
    "          \n",
    "     cat_list = []\n",
    "     sub_text_list = []\n",
    "     sub_href_list = []\n",
    "     rating_list = []\n",
    "     rating_num_list = []\n",
    "     rating_text_list = []\n",
    "     rating_href_list = []\n",
    "     \n",
    "     for a in all_a: \n",
    "          #print(a.text)\n",
    "          #print(a.get('href'))\n",
    "          #print(url+a.get('href'))\n",
    "          \n",
    "          review_page = requests.get(url+a.get('href'))\n",
    "          review_list = BeautifulSoup(review_page.text,\"html.parser\" )\n",
    "          all_img = review_list.find_all('img')\n",
    "          all_text = review_list.find_all(\"p\", {\"class\": \"text\"})\n",
    "          ind =0          \n",
    "          #print(review_page)\n",
    "          #print(review_list )\n",
    "          all_img.remove(all_img[0]) #remove first element which is not rating\n",
    "          for img in all_img:\n",
    "               #print(img)\n",
    "               #print(img.get('alt'))\n",
    "               cat_list.append(cat)\n",
    "               sub_text_list.append(a.text)\n",
    "               sub_href_list.append(url+a.get('href'))\n",
    "               rating_href_list.append(img.get('src'))\n",
    "               #print(all_text[ind].text)\n",
    "               rating_text_list.append(all_text[ind].text)\n",
    "               ind +=1\n",
    "               #break\n",
    "               \n",
    "               if img.get('alt') in pos:\n",
    "                    #print('positive')\n",
    "                    rating_list.append('positive')\n",
    "                    rating_num_list.append(1)\n",
    "               elif img.get('alt') in neg:\n",
    "                    #print('negative')\n",
    "                    rating_list.append('negative')\n",
    "                    rating_num_list.append(0)\n",
    "               else:\n",
    "                    rating_list.append('none')\n",
    "                    rating_num_list.append('none')\n",
    "                    \n",
    "          \n",
    "          \n",
    "     #print('--------',cat,'------------count :',l)\n",
    "     df = pd.DataFrame(data={'Category_Name':cat_list ,'Category_Item':sub_text_list,'Category_Item_Href':sub_href_list,'Rating':rating_list,'Rating_Score':rating_num_list,'Rating_Text':rating_text_list,'Rating_Img':rating_href_list})\n",
    "     #print(df)\n",
    "     df.to_csv(cat.replace('.html','.csv'), index=False)\n",
    "     print(cat.replace('.html','.csv'),' dataset is saved ')"
   ]
  },
  {
   "cell_type": "code",
   "execution_count": null,
   "metadata": {},
   "outputs": [],
   "source": [
    "#import module to show positive and negative freq\n",
    "import seaborn as sns\n",
    "import pandas as pd\n",
    "import matplotlib.pyplot as plt\n",
    "\n",
    "sns.set()\n",
    "\n",
    "rating = pd.read_csv('hotels_travel_list.csv')\n",
    "\n",
    "ax =sns.countplot(x=\"Rating\", data=rating)\n",
    "plt.show()\n",
    "\n",
    "\n",
    "rating = pd.read_csv('restaurants_list.csv')\n",
    "\n",
    "ax =sns.countplot(x=\"Rating\", data=rating)\n",
    "plt.show()\n"
   ]
  },
  {
   "cell_type": "code",
   "execution_count": null,
   "metadata": {},
   "outputs": [],
   "source": [
    "#import module to show confusion matrix and classification report\n",
    "# Python script for confusion matrix creation. \n",
    "from sklearn.metrics import confusion_matrix \n",
    "from sklearn.metrics import accuracy_score \n",
    "from sklearn.metrics import classification_report"
   ]
  },
  {
   "cell_type": "code",
   "execution_count": null,
   "metadata": {},
   "outputs": [],
   "source": [
    "#category  A to  category B\n",
    "ratingA= pd.read_csv('hotels_travel_list.csv')\n",
    "ratingB = pd.read_csv('hotels_travel_list.csv')\n"
   ]
  },
  {
   "cell_type": "code",
   "execution_count": null,
   "metadata": {},
   "outputs": [],
   "source": [
    "rateA =ratingA.values\n",
    "rateB =ratingB.values\n",
    "\n",
    "x = rateA[:,4].tolist()\n",
    "y = rateB[:,4].tolist()\n",
    "actual = x\n",
    "predicted = y\n",
    "\n",
    "results = confusion_matrix(actual, predicted) \n",
    "print ('Confusion Matrix :')\n",
    "print(results) \n",
    "print ('Accuracy Score :',accuracy_score(actual, predicted) )\n",
    "print ('Report : ')\n",
    "print (classification_report(actual, predicted)) \n",
    "\n"
   ]
  },
  {
   "cell_type": "code",
   "execution_count": null,
   "metadata": {},
   "outputs": [],
   "source": [
    "rateA =ratingA.values\n",
    "rateB =ratingB.values\n",
    "\n",
    "x = rateB[:,4].tolist()\n",
    "y = rateA[:,4].tolist()\n",
    "actual = x\n",
    "predicted = y\n",
    "\n",
    "results = confusion_matrix(actual, predicted) \n",
    "print ('Confusion Matrix :')\n",
    "print(results) \n",
    "print ('Accuracy Score :',accuracy_score(actual, predicted) )\n",
    "print ('Report : ')\n",
    "print (classification_report(actual, predicted)) \n"
   ]
  }
 ],
 "metadata": {
  "kernelspec": {
   "display_name": "Python 3",
   "language": "python",
   "name": "python3"
  },
  "language_info": {
   "name": ""
  }
 },
 "nbformat": 4,
 "nbformat_minor": 2
}
